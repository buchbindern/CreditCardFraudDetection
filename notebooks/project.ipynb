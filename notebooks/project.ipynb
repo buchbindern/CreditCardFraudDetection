{
 "cells": [
  {
   "cell_type": "code",
   "execution_count": 6,
   "id": "d0089ba1-92fd-4074-b0a1-eb3e5ea7e6a0",
   "metadata": {},
   "outputs": [],
   "source": [
    "import numpy as np\n",
    "import pandas as pd\n",
    "\n",
    "# load in data\n",
    "data = pd.read_csv(\"card_transdata.csv\")\n",
    "\n",
    "#data.head()\n",
    "df = pd.DataFrame(data)"
   ]
  },
  {
   "cell_type": "code",
   "execution_count": null,
   "id": "eaa62d75-5c2f-4aa7-8ec5-a6572419eef8",
   "metadata": {},
   "outputs": [],
   "source": [
    "# clean up df\n",
    "\n",
    "# remove rows where there is a missing value\n",
    "df = df.dropna(axis=0)\n",
    "\n"
   ]
  }
 ],
 "metadata": {
  "kernelspec": {
   "display_name": "Python 3 (ipykernel)",
   "language": "python",
   "name": "python3"
  },
  "language_info": {
   "codemirror_mode": {
    "name": "ipython",
    "version": 3
   },
   "file_extension": ".py",
   "mimetype": "text/x-python",
   "name": "python",
   "nbconvert_exporter": "python",
   "pygments_lexer": "ipython3",
   "version": "3.10.10"
  }
 },
 "nbformat": 4,
 "nbformat_minor": 5
}
