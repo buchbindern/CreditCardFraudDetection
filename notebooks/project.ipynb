{
 "cells": [
  {
   "cell_type": "code",
   "execution_count": 1,
   "id": "d0089ba1-92fd-4074-b0a1-eb3e5ea7e6a0",
   "metadata": {},
   "outputs": [],
   "source": [
    "import numpy as np\n",
    "import pandas as pd\n",
    "from sklearn.tree import DecisionTreeClassifier\n",
    "import matplotlib.pyplot as plt\n",
    "from sklearn.model_selection import train_test_split\n",
    "from sklearn.linear_model import LogisticRegression\n",
    "from sklearn.preprocessing import MinMaxScaler\n",
    "\n",
    "# load in data\n",
    "df = pd.read_csv(\"card_transdata.csv\")\n"
   ]
  },
  {
   "cell_type": "code",
   "execution_count": 2,
   "id": "368cbba6-9182-4254-b7e5-f07189baee2f",
   "metadata": {},
   "outputs": [
    {
     "data": {
      "text/html": [
       "<div>\n",
       "<style scoped>\n",
       "    .dataframe tbody tr th:only-of-type {\n",
       "        vertical-align: middle;\n",
       "    }\n",
       "\n",
       "    .dataframe tbody tr th {\n",
       "        vertical-align: top;\n",
       "    }\n",
       "\n",
       "    .dataframe thead th {\n",
       "        text-align: right;\n",
       "    }\n",
       "</style>\n",
       "<table border=\"1\" class=\"dataframe\">\n",
       "  <thead>\n",
       "    <tr style=\"text-align: right;\">\n",
       "      <th></th>\n",
       "      <th>distance_from_home</th>\n",
       "      <th>distance_from_last_transaction</th>\n",
       "      <th>ratio_to_median_purchase_price</th>\n",
       "      <th>repeat_retailer</th>\n",
       "      <th>used_chip</th>\n",
       "      <th>used_pin_number</th>\n",
       "      <th>online_order</th>\n",
       "      <th>fraud</th>\n",
       "    </tr>\n",
       "  </thead>\n",
       "  <tbody>\n",
       "    <tr>\n",
       "      <th>0</th>\n",
       "      <td>57.877857</td>\n",
       "      <td>0.311140</td>\n",
       "      <td>1.945940</td>\n",
       "      <td>1.0</td>\n",
       "      <td>1.0</td>\n",
       "      <td>0.0</td>\n",
       "      <td>0.0</td>\n",
       "      <td>0.0</td>\n",
       "    </tr>\n",
       "    <tr>\n",
       "      <th>1</th>\n",
       "      <td>10.829943</td>\n",
       "      <td>0.175592</td>\n",
       "      <td>1.294219</td>\n",
       "      <td>1.0</td>\n",
       "      <td>0.0</td>\n",
       "      <td>0.0</td>\n",
       "      <td>0.0</td>\n",
       "      <td>0.0</td>\n",
       "    </tr>\n",
       "    <tr>\n",
       "      <th>2</th>\n",
       "      <td>5.091079</td>\n",
       "      <td>0.805153</td>\n",
       "      <td>0.427715</td>\n",
       "      <td>1.0</td>\n",
       "      <td>0.0</td>\n",
       "      <td>0.0</td>\n",
       "      <td>1.0</td>\n",
       "      <td>0.0</td>\n",
       "    </tr>\n",
       "    <tr>\n",
       "      <th>3</th>\n",
       "      <td>2.247564</td>\n",
       "      <td>5.600044</td>\n",
       "      <td>0.362663</td>\n",
       "      <td>1.0</td>\n",
       "      <td>1.0</td>\n",
       "      <td>0.0</td>\n",
       "      <td>1.0</td>\n",
       "      <td>0.0</td>\n",
       "    </tr>\n",
       "    <tr>\n",
       "      <th>4</th>\n",
       "      <td>44.190936</td>\n",
       "      <td>0.566486</td>\n",
       "      <td>2.222767</td>\n",
       "      <td>1.0</td>\n",
       "      <td>1.0</td>\n",
       "      <td>0.0</td>\n",
       "      <td>1.0</td>\n",
       "      <td>0.0</td>\n",
       "    </tr>\n",
       "  </tbody>\n",
       "</table>\n",
       "</div>"
      ],
      "text/plain": [
       "   distance_from_home  distance_from_last_transaction  \\\n",
       "0           57.877857                        0.311140   \n",
       "1           10.829943                        0.175592   \n",
       "2            5.091079                        0.805153   \n",
       "3            2.247564                        5.600044   \n",
       "4           44.190936                        0.566486   \n",
       "\n",
       "   ratio_to_median_purchase_price  repeat_retailer  used_chip  \\\n",
       "0                        1.945940              1.0        1.0   \n",
       "1                        1.294219              1.0        0.0   \n",
       "2                        0.427715              1.0        0.0   \n",
       "3                        0.362663              1.0        1.0   \n",
       "4                        2.222767              1.0        1.0   \n",
       "\n",
       "   used_pin_number  online_order  fraud  \n",
       "0              0.0           0.0    0.0  \n",
       "1              0.0           0.0    0.0  \n",
       "2              0.0           1.0    0.0  \n",
       "3              0.0           1.0    0.0  \n",
       "4              0.0           1.0    0.0  "
      ]
     },
     "execution_count": 2,
     "metadata": {},
     "output_type": "execute_result"
    }
   ],
   "source": [
    "df.head()"
   ]
  },
  {
   "cell_type": "code",
   "execution_count": 3,
   "id": "c29f5deb-36f3-4400-ae46-4dba2bf64645",
   "metadata": {},
   "outputs": [
    {
     "name": "stdout",
     "output_type": "stream",
     "text": [
      "distance_from_home nulls : 0\n",
      "distance_from_last_transaction nulls : 0\n",
      "ratio_to_median_purchase_price nulls : 0\n",
      "repeat_retailer nulls : 0\n",
      "used_chip nulls : 0\n",
      "used_pin_number nulls : 0\n",
      "online_order nulls : 0\n",
      "fraud nulls : 0\n"
     ]
    }
   ],
   "source": [
    "# check for null values in data\n",
    "print(\"distance_from_home nulls :\",df[\"distance_from_home\"].isnull().sum())\n",
    "print(\"distance_from_last_transaction nulls :\",df[\"distance_from_last_transaction\"].isnull().sum())\n",
    "print(\"ratio_to_median_purchase_price nulls :\",df[\"ratio_to_median_purchase_price\"].isnull().sum())\n",
    "print(\"repeat_retailer nulls :\",df[\"repeat_retailer\"].isnull().sum())\n",
    "print(\"used_chip nulls :\",df[\"used_chip\"].isnull().sum())\n",
    "print(\"used_pin_number nulls :\",df[\"used_pin_number\"].isnull().sum())\n",
    "print(\"online_order nulls :\",df[\"online_order\"].isnull().sum())\n",
    "print(\"fraud nulls :\",df[\"fraud\"].isnull().sum())"
   ]
  },
  {
   "cell_type": "code",
   "execution_count": 4,
   "id": "b899cbdc-f156-4b77-be77-658e52c895b3",
   "metadata": {},
   "outputs": [
    {
     "name": "stdout",
     "output_type": "stream",
     "text": [
      "duplicates : 0\n"
     ]
    }
   ],
   "source": [
    "# check for duplicates\n",
    "print(\"duplicates :\", df.duplicated().sum())"
   ]
  },
  {
   "cell_type": "code",
   "execution_count": 5,
   "id": "224e58c3-bace-4c54-b264-aa737134d786",
   "metadata": {},
   "outputs": [],
   "source": [
    "# standardize some features\n",
    "\n",
    "from sklearn.compose import ColumnTransformer\n",
    "from sklearn.preprocessing import StandardScaler\n",
    "\n",
    "numerical = ['distance_from_home',\n",
    "             'distance_from_last_transaction',\n",
    "             'ratio_to_median_purchase_price',\n",
    "             ]\n",
    "\n",
    "preprocessor = ColumnTransformer(\n",
    "    [\n",
    "        ('numerical', StandardScaler(), numerical),\n",
    "    ],\n",
    "    remainder='passthrough',\n",
    ")"
   ]
  },
  {
   "cell_type": "code",
   "execution_count": 6,
   "id": "5b1caec2-8c77-45e7-82a9-ebcbc612fead",
   "metadata": {},
   "outputs": [],
   "source": [
    "# splitting data. x = variables / features, y = targets\n",
    "\n",
    "x = df.drop('fraud', axis=1)\n",
    "y = df['fraud']\n",
    "\n",
    "# training the data\n",
    "x_train, x_test, y_train, y_test = train_test_split(x, y, train_size = 0.7, random_state = 42)"
   ]
  },
  {
   "cell_type": "code",
   "execution_count": 14,
   "id": "eff935e1-a912-4ebc-b159-ad6bb97d107d",
   "metadata": {},
   "outputs": [
    {
     "name": "stdout",
     "output_type": "stream",
     "text": [
      "Explained variance ratio:\n",
      " [0.85195829 0.14632901]\n",
      "0.9119242857142856\n",
      "PR AUC: 0.28896065879471805\n",
      "Explained variance ratio:\n",
      " [0.85195829 0.14632901 0.00158199]\n",
      "0.9217414285714286\n",
      "PR AUC: 0.4795606000018196\n",
      "Explained variance ratio:\n",
      " [8.51958287e-01 1.46329005e-01 1.58198629e-03 4.59351049e-05]\n",
      "0.9295171428571429\n",
      "PR AUC: 0.5494145588076352\n",
      "Explained variance ratio:\n",
      " [8.51958287e-01 1.46329005e-01 1.58198629e-03 4.59351049e-05\n",
      " 4.58598850e-05]\n",
      "0.9459799999999999\n",
      "PR AUC: 0.6776486013681535\n",
      "Explained variance ratio:\n",
      " [8.51958287e-01 1.46329005e-01 1.58198629e-03 4.59351049e-05\n",
      " 4.58598850e-05 2.06508754e-05]\n",
      "0.9460571428571429\n",
      "PR AUC: 0.6783805724263183\n",
      "Explained variance ratio:\n",
      " [8.51958287e-01 1.46329005e-01 1.58198629e-03 4.59351049e-05\n",
      " 4.58598850e-05 2.06508754e-05 1.82752856e-05]\n",
      "0.9589642857142857\n",
      "PR AUC: 0.7659903990403628\n"
     ]
    }
   ],
   "source": [
    "from sklearn.linear_model import LogisticRegression\n",
    "from sklearn.decomposition import PCA\n",
    "from sklearn.model_selection import cross_val_score\n",
    "import numpy as np\n",
    "from sklearn.metrics import precision_recall_curve, auc\n",
    "\n",
    "for i in range(2, 8, 1):\n",
    "    pca = PCA(n_components=i) \n",
    "\n",
    "    # Fit the PCA model to your data\n",
    "    pca.fit(x_train)\n",
    "\n",
    "    # Transform the data to its principal components\n",
    "    x_pca = pca.transform(x_train)\n",
    "\n",
    "    # Access the explained variance ratio\n",
    "    explained_variance_ratio = pca.explained_variance_ratio_\n",
    "\n",
    "\n",
    "    # Print the transformed data and explained variance ratio\n",
    "    #print(\"Transformed data:\\n\", x_pca)\n",
    "    print(\"Explained variance ratio:\\n\", explained_variance_ratio)\n",
    "\n",
    "    model = LogisticRegression(max_iter=1000)\n",
    "    model.fit(x_pca, y_train)\n",
    "    scores = cross_val_score(model, x_pca, y_train, cv=5)\n",
    "    #print(scores)\n",
    "    \n",
    "\n",
    "    print(np.mean(scores)) # all features are important\n",
    "\n",
    "    y_pred = model.predict(x_pca)\n",
    "    precision, recall, _ = precision_recall_curve(y_train, y_pred)\n",
    "    pr_auc = auc(recall, precision)\n",
    "\n",
    "    print(\"PR AUC:\", pr_auc)\n",
    "\n",
    "# variable with low vairence - 5 and 6. So pca doesnt hold\n",
    "    \n",
    "    \n"
   ]
  },
  {
   "cell_type": "code",
   "execution_count": 38,
   "id": "ff55b447-e5ff-44d1-92ae-1bb5691971c4",
   "metadata": {},
   "outputs": [],
   "source": [
    "from sklearn.preprocessing import StandardScaler\n",
    "\n",
    "scaler = StandardScaler()\n",
    "x_train_scaled = scaler.fit_transform(x_train)\n",
    "x_test_scaled = scaler.transform(x_test)"
   ]
  },
  {
   "cell_type": "code",
   "execution_count": 42,
   "id": "71d34428-fc41-4277-9ec3-13726c6d1910",
   "metadata": {},
   "outputs": [
    {
     "name": "stderr",
     "output_type": "stream",
     "text": [
      "/opt/tljh/user/lib/python3.10/site-packages/sklearn/base.py:465: UserWarning: X does not have valid feature names, but LogisticRegression was fitted with feature names\n",
      "  warnings.warn(\n"
     ]
    }
   ],
   "source": [
    "# Predicting on the test set\n",
    "y_pred = model.predict(x_test_scaled)\n"
   ]
  },
  {
   "cell_type": "code",
   "execution_count": 43,
   "id": "aa88e2e5-f00e-4d33-9125-4cb99f9d21f8",
   "metadata": {},
   "outputs": [],
   "source": [
    "from sklearn.metrics import accuracy_score, precision_score, recall_score, f1_score, roc_auc_score, confusion_matrix"
   ]
  },
  {
   "cell_type": "code",
   "execution_count": null,
   "id": "8e8f84d4-9805-4042-9b3a-ac601c43ccb2",
   "metadata": {},
   "outputs": [],
   "source": [
    "from sklearn.metrics import precision_recall_curve, auc\n",
    "\n",
    "precision, recall, _ = precision_recall_curve(y_true, y_scores)\n",
    "pr_auc = auc(recall, precision)\n",
    "\n",
    "print(\"PR AUC:\", pr_auc)"
   ]
  },
  {
   "cell_type": "code",
   "execution_count": 44,
   "id": "822a8a4b-b4e2-4dd1-8542-5e64d9365880",
   "metadata": {},
   "outputs": [
    {
     "name": "stdout",
     "output_type": "stream",
     "text": [
      "Accuracy: 0.9132166666666667\n",
      "Precision: 0.501737266208324\n",
      "Recall: 0.5194994067893911\n",
      "F1 Score: 0.5104638700336573\n",
      "Confusion Matrix:\n",
      " [[260391  13480]\n",
      " [ 12555  13574]]\n"
     ]
    }
   ],
   "source": [
    "accuracy = accuracy_score(y_test, y_pred)\n",
    "precision = precision_score(y_test, y_pred)\n",
    "recall = recall_score(y_test, y_pred)\n",
    "f1 = f1_score(y_test, y_pred)\n",
    "conf_matrix = confusion_matrix(y_test, y_pred)\n",
    "\n",
    "print(\"Accuracy:\", accuracy)\n",
    "print(\"Precision:\", precision)\n",
    "print(\"Recall:\", recall)\n",
    "print(\"F1 Score:\", f1)\n",
    "print(\"Confusion Matrix:\\n\", conf_matrix)"
   ]
  },
  {
   "cell_type": "code",
   "execution_count": null,
   "id": "2e19465f-0001-49c3-8a83-88635d9ba089",
   "metadata": {},
   "outputs": [],
   "source": []
  }
 ],
 "metadata": {
  "kernelspec": {
   "display_name": "Python 3 (ipykernel)",
   "language": "python",
   "name": "python3"
  },
  "language_info": {
   "codemirror_mode": {
    "name": "ipython",
    "version": 3
   },
   "file_extension": ".py",
   "mimetype": "text/x-python",
   "name": "python",
   "nbconvert_exporter": "python",
   "pygments_lexer": "ipython3",
   "version": "3.10.10"
  }
 },
 "nbformat": 4,
 "nbformat_minor": 5
}
