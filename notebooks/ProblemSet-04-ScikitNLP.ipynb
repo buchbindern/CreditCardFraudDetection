{
 "cells": [
  {
   "cell_type": "markdown",
   "id": "6106db4f",
   "metadata": {
    "editable": true,
    "slideshow": {
     "slide_type": ""
    },
    "tags": []
   },
   "source": [
    "Before you turn this problem in, make sure everything runs as expected. First, **restart the kernel** (in the menubar, select Kernel$\\rightarrow$Restart) and then **run all cells** (in the menubar, select Cell$\\rightarrow$Run All).\n",
    "\n",
    "Make sure you fill in any place that says `YOUR CODE HERE` or \"YOUR ANSWER HERE\", as well as your name and collaborators below:"
   ]
  },
  {
   "cell_type": "code",
   "execution_count": null,
   "id": "68dd9ae9",
   "metadata": {},
   "outputs": [],
   "source": [
    "NAME = \"Natalie Buchbinder\"\n",
    "COLLABORATORS = \"Sarale Goldberger\""
   ]
  },
  {
   "cell_type": "markdown",
   "id": "f6c530ea",
   "metadata": {},
   "source": [
    "---"
   ]
  },
  {
   "cell_type": "markdown",
   "id": "e18db0f2",
   "metadata": {},
   "source": [
    "# PS4 Project\n",
    "\n",
    "In this project, we are going to continue learning more about scikit-learn and modeling by building another complete model. We also might learn a little NLP along the way."
   ]
  },
  {
   "cell_type": "code",
   "execution_count": 1,
   "id": "9bfe8a1f",
   "metadata": {},
   "outputs": [],
   "source": [
    "from sklearn.datasets import fetch_20newsgroups\n",
    "\n",
    "bunch = fetch_20newsgroups()"
   ]
  },
  {
   "cell_type": "code",
   "execution_count": 2,
   "id": "08893339",
   "metadata": {},
   "outputs": [
    {
     "name": "stdout",
     "output_type": "stream",
     "text": [
      ".. _20newsgroups_dataset:\n",
      "\n",
      "The 20 newsgroups text dataset\n",
      "------------------------------\n",
      "\n",
      "The 20 newsgroups dataset comprises around 18000 newsgroups posts on\n",
      "20 topics split in two subsets: one for training (or development)\n",
      "and the other one for testing (or for performance evaluation). The split\n",
      "between the train and test set is based upon a messages posted before\n",
      "and after a specific date.\n",
      "\n",
      "This module contains two loaders. The first one,\n",
      ":func:`sklearn.datasets.fetch_20newsgroups`,\n",
      "returns a list of the raw texts that can be fed to text feature\n",
      "extractors such as :class:`~sklearn.feature_extraction.text.CountVectorizer`\n",
      "with custom parameters so as to extract feature vectors.\n",
      "The second one, :func:`sklearn.datasets.fetch_20newsgroups_vectorized`,\n",
      "returns ready-to-use features, i.e., it is not necessary to use a feature\n",
      "extractor.\n",
      "\n",
      "**Data Set Characteristics:**\n",
      "\n",
      "    =================   ==========\n",
      "    Classes                     20\n",
      "    Samples total            18846\n",
      "    Dimensionality               1\n",
      "    Features                  text\n",
      "    =================   ==========\n",
      "\n",
      "|details-start|\n",
      "**Usage**\n",
      "|details-split|\n",
      "\n",
      "The :func:`sklearn.datasets.fetch_20newsgroups` function is a data\n",
      "fetching / caching functions that downloads the data archive from\n",
      "the original `20 newsgroups website`_, extracts the archive contents\n",
      "in the ``~/scikit_learn_data/20news_home`` folder and calls the\n",
      ":func:`sklearn.datasets.load_files` on either the training or\n",
      "testing set folder, or both of them::\n",
      "\n",
      "  >>> from sklearn.datasets import fetch_20newsgroups\n",
      "  >>> newsgroups_train = fetch_20newsgroups(subset='train')\n",
      "\n",
      "  >>> from pprint import pprint\n",
      "  >>> pprint(list(newsgroups_train.target_names))\n",
      "  ['alt.atheism',\n",
      "   'comp.graphics',\n",
      "   'comp.os.ms-windows.misc',\n",
      "   'comp.sys.ibm.pc.hardware',\n",
      "   'comp.sys.mac.hardware',\n",
      "   'comp.windows.x',\n",
      "   'misc.forsale',\n",
      "   'rec.autos',\n",
      "   'rec.motorcycles',\n",
      "   'rec.sport.baseball',\n",
      "   'rec.sport.hockey',\n",
      "   'sci.crypt',\n",
      "   'sci.electronics',\n",
      "   'sci.med',\n",
      "   'sci.space',\n",
      "   'soc.religion.christian',\n",
      "   'talk.politics.guns',\n",
      "   'talk.politics.mideast',\n",
      "   'talk.politics.misc',\n",
      "   'talk.religion.misc']\n",
      "\n",
      "The real data lies in the ``filenames`` and ``target`` attributes. The target\n",
      "attribute is the integer index of the category::\n",
      "\n",
      "  >>> newsgroups_train.filenames.shape\n",
      "  (11314,)\n",
      "  >>> newsgroups_train.target.shape\n",
      "  (11314,)\n",
      "  >>> newsgroups_train.target[:10]\n",
      "  array([ 7,  4,  4,  1, 14, 16, 13,  3,  2,  4])\n",
      "\n",
      "It is possible to load only a sub-selection of the categories by passing the\n",
      "list of the categories to load to the\n",
      ":func:`sklearn.datasets.fetch_20newsgroups` function::\n",
      "\n",
      "  >>> cats = ['alt.atheism', 'sci.space']\n",
      "  >>> newsgroups_train = fetch_20newsgroups(subset='train', categories=cats)\n",
      "\n",
      "  >>> list(newsgroups_train.target_names)\n",
      "  ['alt.atheism', 'sci.space']\n",
      "  >>> newsgroups_train.filenames.shape\n",
      "  (1073,)\n",
      "  >>> newsgroups_train.target.shape\n",
      "  (1073,)\n",
      "  >>> newsgroups_train.target[:10]\n",
      "  array([0, 1, 1, 1, 0, 1, 1, 0, 0, 0])\n",
      "\n",
      "|details-end|\n",
      "\n",
      "|details-start|\n",
      "**Converting text to vectors**\n",
      "|details-split|\n",
      "\n",
      "In order to feed predictive or clustering models with the text data,\n",
      "one first need to turn the text into vectors of numerical values suitable\n",
      "for statistical analysis. This can be achieved with the utilities of the\n",
      "``sklearn.feature_extraction.text`` as demonstrated in the following\n",
      "example that extract `TF-IDF`_ vectors of unigram tokens\n",
      "from a subset of 20news::\n",
      "\n",
      "  >>> from sklearn.feature_extraction.text import TfidfVectorizer\n",
      "  >>> categories = ['alt.atheism', 'talk.religion.misc',\n",
      "  ...               'comp.graphics', 'sci.space']\n",
      "  >>> newsgroups_train = fetch_20newsgroups(subset='train',\n",
      "  ...                                       categories=categories)\n",
      "  >>> vectorizer = TfidfVectorizer()\n",
      "  >>> vectors = vectorizer.fit_transform(newsgroups_train.data)\n",
      "  >>> vectors.shape\n",
      "  (2034, 34118)\n",
      "\n",
      "The extracted TF-IDF vectors are very sparse, with an average of 159 non-zero\n",
      "components by sample in a more than 30000-dimensional space\n",
      "(less than .5% non-zero features)::\n",
      "\n",
      "  >>> vectors.nnz / float(vectors.shape[0])\n",
      "  159.01327...\n",
      "\n",
      ":func:`sklearn.datasets.fetch_20newsgroups_vectorized` is a function which\n",
      "returns ready-to-use token counts features instead of file names.\n",
      "\n",
      ".. _`20 newsgroups website`: http://people.csail.mit.edu/jrennie/20Newsgroups/\n",
      ".. _`TF-IDF`: https://en.wikipedia.org/wiki/Tf-idf\n",
      "\n",
      "|details-end|\n",
      "\n",
      "|details-start|\n",
      "**Filtering text for more realistic training**\n",
      "|details-split|\n",
      "\n",
      "It is easy for a classifier to overfit on particular things that appear in the\n",
      "20 Newsgroups data, such as newsgroup headers. Many classifiers achieve very\n",
      "high F-scores, but their results would not generalize to other documents that\n",
      "aren't from this window of time.\n",
      "\n",
      "For example, let's look at the results of a multinomial Naive Bayes classifier,\n",
      "which is fast to train and achieves a decent F-score::\n",
      "\n",
      "  >>> from sklearn.naive_bayes import MultinomialNB\n",
      "  >>> from sklearn import metrics\n",
      "  >>> newsgroups_test = fetch_20newsgroups(subset='test',\n",
      "  ...                                      categories=categories)\n",
      "  >>> vectors_test = vectorizer.transform(newsgroups_test.data)\n",
      "  >>> clf = MultinomialNB(alpha=.01)\n",
      "  >>> clf.fit(vectors, newsgroups_train.target)\n",
      "  MultinomialNB(alpha=0.01, class_prior=None, fit_prior=True)\n",
      "\n",
      "  >>> pred = clf.predict(vectors_test)\n",
      "  >>> metrics.f1_score(newsgroups_test.target, pred, average='macro')\n",
      "  0.88213...\n",
      "\n",
      "(The example :ref:`sphx_glr_auto_examples_text_plot_document_classification_20newsgroups.py` shuffles\n",
      "the training and test data, instead of segmenting by time, and in that case\n",
      "multinomial Naive Bayes gets a much higher F-score of 0.88. Are you suspicious\n",
      "yet of what's going on inside this classifier?)\n",
      "\n",
      "Let's take a look at what the most informative features are:\n",
      "\n",
      "  >>> import numpy as np\n",
      "  >>> def show_top10(classifier, vectorizer, categories):\n",
      "  ...     feature_names = vectorizer.get_feature_names_out()\n",
      "  ...     for i, category in enumerate(categories):\n",
      "  ...         top10 = np.argsort(classifier.coef_[i])[-10:]\n",
      "  ...         print(\"%s: %s\" % (category, \" \".join(feature_names[top10])))\n",
      "  ...\n",
      "  >>> show_top10(clf, vectorizer, newsgroups_train.target_names)\n",
      "  alt.atheism: edu it and in you that is of to the\n",
      "  comp.graphics: edu in graphics it is for and of to the\n",
      "  sci.space: edu it that is in and space to of the\n",
      "  talk.religion.misc: not it you in is that and to of the\n",
      "\n",
      "\n",
      "You can now see many things that these features have overfit to:\n",
      "\n",
      "- Almost every group is distinguished by whether headers such as\n",
      "  ``NNTP-Posting-Host:`` and ``Distribution:`` appear more or less often.\n",
      "- Another significant feature involves whether the sender is affiliated with\n",
      "  a university, as indicated either by their headers or their signature.\n",
      "- The word \"article\" is a significant feature, based on how often people quote\n",
      "  previous posts like this: \"In article [article ID], [name] <[e-mail address]>\n",
      "  wrote:\"\n",
      "- Other features match the names and e-mail addresses of particular people who\n",
      "  were posting at the time.\n",
      "\n",
      "With such an abundance of clues that distinguish newsgroups, the classifiers\n",
      "barely have to identify topics from text at all, and they all perform at the\n",
      "same high level.\n",
      "\n",
      "For this reason, the functions that load 20 Newsgroups data provide a\n",
      "parameter called **remove**, telling it what kinds of information to strip out\n",
      "of each file. **remove** should be a tuple containing any subset of\n",
      "``('headers', 'footers', 'quotes')``, telling it to remove headers, signature\n",
      "blocks, and quotation blocks respectively.\n",
      "\n",
      "  >>> newsgroups_test = fetch_20newsgroups(subset='test',\n",
      "  ...                                      remove=('headers', 'footers', 'quotes'),\n",
      "  ...                                      categories=categories)\n",
      "  >>> vectors_test = vectorizer.transform(newsgroups_test.data)\n",
      "  >>> pred = clf.predict(vectors_test)\n",
      "  >>> metrics.f1_score(pred, newsgroups_test.target, average='macro')\n",
      "  0.77310...\n",
      "\n",
      "This classifier lost over a lot of its F-score, just because we removed\n",
      "metadata that has little to do with topic classification.\n",
      "It loses even more if we also strip this metadata from the training data:\n",
      "\n",
      "  >>> newsgroups_train = fetch_20newsgroups(subset='train',\n",
      "  ...                                       remove=('headers', 'footers', 'quotes'),\n",
      "  ...                                       categories=categories)\n",
      "  >>> vectors = vectorizer.fit_transform(newsgroups_train.data)\n",
      "  >>> clf = MultinomialNB(alpha=.01)\n",
      "  >>> clf.fit(vectors, newsgroups_train.target)\n",
      "  MultinomialNB(alpha=0.01, class_prior=None, fit_prior=True)\n",
      "\n",
      "  >>> vectors_test = vectorizer.transform(newsgroups_test.data)\n",
      "  >>> pred = clf.predict(vectors_test)\n",
      "  >>> metrics.f1_score(newsgroups_test.target, pred, average='macro')\n",
      "  0.76995...\n",
      "\n",
      "Some other classifiers cope better with this harder version of the task. Try the\n",
      ":ref:`sphx_glr_auto_examples_model_selection_plot_grid_search_text_feature_extraction.py`\n",
      "example with and without the `remove` option to compare the results.\n",
      "|details-end|\n",
      "\n",
      ".. topic:: Data Considerations\n",
      "\n",
      "  The Cleveland Indians is a major league baseball team based in Cleveland,\n",
      "  Ohio, USA. In December 2020, it was reported that \"After several months of\n",
      "  discussion sparked by the death of George Floyd and a national reckoning over\n",
      "  race and colonialism, the Cleveland Indians have decided to change their\n",
      "  name.\" Team owner Paul Dolan \"did make it clear that the team will not make\n",
      "  its informal nickname -- the Tribe -- its new team name.\" \"It's not going to\n",
      "  be a half-step away from the Indians,\" Dolan said.\"We will not have a Native\n",
      "  American-themed name.\"\n",
      "\n",
      "  https://www.mlb.com/news/cleveland-indians-team-name-change\n",
      "\n",
      ".. topic:: Recommendation\n",
      "\n",
      "  - When evaluating text classifiers on the 20 Newsgroups data, you\n",
      "    should strip newsgroup-related metadata. In scikit-learn, you can do this\n",
      "    by setting ``remove=('headers', 'footers', 'quotes')``. The F-score will be\n",
      "    lower because it is more realistic.\n",
      "  - This text dataset contains data which may be inappropriate for certain NLP\n",
      "    applications. An example is listed in the \"Data Considerations\" section\n",
      "    above. The challenge with using current text datasets in NLP for tasks such\n",
      "    as sentence completion, clustering, and other applications is that text\n",
      "    that is culturally biased and inflammatory will propagate biases. This\n",
      "    should be taken into consideration when using the dataset, reviewing the\n",
      "    output, and the bias should be documented.\n",
      "\n",
      ".. topic:: Examples\n",
      "\n",
      "   * :ref:`sphx_glr_auto_examples_model_selection_plot_grid_search_text_feature_extraction.py`\n",
      "\n",
      "   * :ref:`sphx_glr_auto_examples_text_plot_document_classification_20newsgroups.py`\n",
      "\n",
      "   * :ref:`sphx_glr_auto_examples_text_plot_hashing_vs_dict_vectorizer.py`\n",
      "\n",
      "   * :ref:`sphx_glr_auto_examples_text_plot_document_clustering.py`\n",
      "\n"
     ]
    }
   ],
   "source": [
    "print(bunch['DESCR'])\n",
    "\n",
    "#for i in range(len(bunch.data)):\n",
    "      #print(i, \"example\", bunch.target[i])"
   ]
  },
  {
   "cell_type": "markdown",
   "id": "425425b5-2d93-4570-b8f1-3e6b9dcfdd2c",
   "metadata": {},
   "source": [
    "## Part a)\n",
    "\n",
    "For each of the following words\n",
    "\n",
    "- the\n",
    "- subject\n",
    "- computer\n",
    "- player\n",
    "- democrat\n",
    "\n",
    "please compute the overall percentage of the documents the word appears.  In addition,  for each newsgroup the percentage of documents the word appears in.  Please ignore case in your calculation.  I have provided the words in a list in the cell below.\n",
    "\n",
    "Please provide your answer in the following format\n",
    "\n",
    "```\n",
    "ans = {\n",
    "   <word>: {\n",
    "       total_perc: <perc>, \n",
    "       subject_percs: {\n",
    "           <subject>: <perc>\n",
    "   }\n",
    "}\n",
    "```\n",
    "\n",
    "If a word does not appear in the subject, do not include it in the `subject_percs`."
   ]
  },
  {
   "cell_type": "code",
   "execution_count": 3,
   "id": "37bed997",
   "metadata": {},
   "outputs": [],
   "source": [
    "word_list = ['the', 'subject', 'computer', 'player', 'democrat']"
   ]
  },
  {
   "cell_type": "code",
   "execution_count": 4,
   "id": "e609e5d3",
   "metadata": {
    "deletable": false,
    "nbgrader": {
     "cell_type": "code",
     "checksum": "67fb980fc96a92eb64a55eb5e6c964d5",
     "grade": false,
     "grade_id": "cell-7532f8ec92d39fc6",
     "locked": false,
     "schema_version": 3,
     "solution": true,
     "task": false
    }
   },
   "outputs": [],
   "source": [
    "from collections import defaultdict\n",
    "\n",
    "def def_value_0():\n",
    "    return 0\n",
    "\n",
    "def def_value_False():\n",
    "    return False\n",
    "\n",
    "def def_value_dict():\n",
    "    return {}\n",
    "\n",
    "def def_value_word():\n",
    "    return { \"total_perc\" : 0,\n",
    "             \"subject_perc\": defaultdict(def_value_0)\n",
    "           }\n",
    "\n",
    "def compute_percentages(bunch):\n",
    "\n",
    "    d = defaultdict(def_value_word)                # answer dictionary\n",
    "    num_docs = len(bunch.data)                     # how many documents are in the dataset\n",
    "    num_subjects = defaultdict(def_value_0)      # how many documents there are per subject in the dataset\n",
    "    found = defaultdict(def_value_False)            # keep track of whether a word has been encountered in my document\n",
    "\n",
    "    # for each of the documents, make a dictionary counting the amount of times each word from our word list appears\n",
    "    # For each of the given words, what percentage of the total documents does that word appear in?\n",
    "    # for each document, for each of the words in the word list\n",
    "    # if a word in the doc matches a word in the word list\n",
    "    # increment the counter of that word in the dictionary by 1\n",
    "     \n",
    "    # Traverse through the dataset to get documents and subjects\n",
    "    for doc, subject_id in zip(bunch.data, bunch.target):\n",
    "        subject = bunch.target_names[subject_id]  # Get the subject name using target ID\n",
    "        \n",
    "        # increment the subject counter for the current subject\n",
    "        num_subjects[subject] += 1\n",
    "        \n",
    "        # loop through the words of the document\n",
    "        for word in doc.split():\n",
    "            # check if it is one of our words, and if it has not already been encountered for this document\n",
    "            if word in word_list and not found[word]:\n",
    "                # note that this word has been encountered\n",
    "                found[word] = True\n",
    "                # increment the total_perc counter for this word for this document\n",
    "                d[word][\"total_perc\"] += 1\n",
    "                # increment the subject_perc counter for this word for this document for this subject\n",
    "                d[word][\"subject_perc\"][subject] += 1\n",
    "\n",
    "        # reset the found dictionary to False\n",
    "        found = defaultdict(def_value_False)\n",
    "\n",
    "    # Divide the counts by the total docs and multiply by 100 to get the percentage, rounding to 2 decimal places\n",
    "    for word in d:\n",
    "        d[word][\"total_perc\"] = round((d[word][\"total_perc\"]/num_docs)*100, 2)\n",
    "        for subject in d[word][\"subject_perc\"]:\n",
    "            d[word][\"subject_perc\"][subject] = round((d[word][\"subject_perc\"][subject]/num_subjects[subject])*100, 2)\n",
    "\n",
    "    return d\n",
    "    "
   ]
  },
  {
   "cell_type": "code",
   "execution_count": 5,
   "id": "6aab799e",
   "metadata": {
    "editable": true,
    "slideshow": {
     "slide_type": ""
    },
    "tags": []
   },
   "outputs": [],
   "source": [
    "from numpy.testing import assert_almost_equal\n",
    "def assert_almost_equal(a, b):\n",
    "    assert abs(a - b) < 1e-5, f\"a={a:.5f}, b={b:.5f} are not euql\""
   ]
  },
  {
   "cell_type": "code",
   "execution_count": 6,
   "id": "53fdbf4d",
   "metadata": {
    "deletable": false,
    "editable": true,
    "nbgrader": {
     "cell_type": "code",
     "checksum": "a558219860d0331a9f65a167157c9494",
     "grade": true,
     "grade_id": "cell-674e347558499603",
     "locked": true,
     "points": 10,
     "schema_version": 3,
     "solution": false,
     "task": false
    },
    "slideshow": {
     "slide_type": ""
    },
    "tags": []
   },
   "outputs": [],
   "source": [
    "ans = compute_percentages(bunch)\n"
   ]
  },
  {
   "cell_type": "markdown",
   "id": "2a6e51b6",
   "metadata": {
    "deletable": false,
    "editable": false,
    "nbgrader": {
     "cell_type": "markdown",
     "checksum": "092286c4bd61561406415ce95a567f58",
     "grade": false,
     "grade_id": "cell-278456d4bf8a121d",
     "locked": true,
     "points": 10,
     "schema_version": 3,
     "solution": false,
     "task": true
    }
   },
   "source": [
    "## Part b)\n",
    "\n",
    "Now interpret your results with a plot which shows for each word the relative percentages for each subject.  To make the plots a bit simpler, lets just consider 4 subjects:\n",
    "\n",
    "- rec.sport.baseball\n",
    "- talk.politics.misc\n",
    "- comp.graphics\n",
    "- talk.rec.motorcycles\n",
    "\n",
    "these are provided as a list in the next cell."
   ]
  },
  {
   "cell_type": "code",
   "execution_count": 7,
   "id": "af2715e0",
   "metadata": {},
   "outputs": [],
   "source": [
    "topics = ['rec.sport.baseball', 'talk.politics.misc', 'comp.graphics', 'rec.motorcycles']"
   ]
  },
  {
   "cell_type": "code",
   "execution_count": 8,
   "id": "482a8ab2",
   "metadata": {},
   "outputs": [
    {
     "data": {
      "image/png": "[encoded data removed]",
      "text/plain": [
       "<Figure size 640x480 with 1 Axes>"
      ]
     },
     "metadata": {},
     "output_type": "display_data"
    },
    {
     "data": {
      "image/png": "[encoded data removed]",
      "text/plain": [
       "<Figure size 640x480 with 1 Axes>"
      ]
     },
     "metadata": {},
     "output_type": "display_data"
    },
    {
     "data": {
      "image/png": "[encoded data removed]",
      "text/plain": [
       "<Figure size 640x480 with 1 Axes>"
      ]
     },
     "metadata": {},
     "output_type": "display_data"
    },
    {
     "data": {
      "image/png": "[encoded data removed]",
      "text/plain": [
       "<Figure size 640x480 with 1 Axes>"
      ]
     },
     "metadata": {},
     "output_type": "display_data"
    },
    {
     "data": {
      "image/png": "[encoded data removed]",
      "text/plain": [
       "<Figure size 640x480 with 1 Axes>"
      ]
     },
     "metadata": {},
     "output_type": "display_data"
    }
   ],
   "source": [
    "import matplotlib.pyplot as plt\n",
    "import numpy as np\n",
    "\n",
    "d = compute_percentages(bunch)\n",
    "\n",
    "# loop through dict of words\n",
    "\n",
    "\n",
    "\n",
    "for word in d:\n",
    "    subj = []\n",
    "    freq = []\n",
    "    \n",
    "    for subject in topics:\n",
    "        subj += [subject]\n",
    "        freq += [d[word][\"subject_perc\"][subject]]\n",
    "    \n",
    "    plt.bar(subj, freq)\n",
    "    plt.title(word)\n",
    "    plt.xlabel(\"word\")\n",
    "    plt.ylabel(\"freq\")\n",
    "    plt.show()\n",
    "\n"
   ]
  },
  {
   "cell_type": "markdown",
   "id": "55e5514b",
   "metadata": {},
   "source": [
    "## Part c)\n",
    "\n",
    "Build a classifier to try to identifier whether the text belongs to one of the `comp` news groups.  This is a  binary classification problem.\n",
    "\n",
    "The features will be the number of occurences of each word in the document.  You are recommended to use Scikit-learn logistic regression for your implementation.\n",
    "\n",
    "As hyperparameters, play with the maximum and minimum document frequency for words. (a gridsearch could be a good thing to use to find the optimal hyperparameters!)\n",
    "\n",
    "NOTE: max_df and min_df play with what percentage of documents it will appear in  and whether it is significant or helpful, e.g. \n",
    "```\n",
    "    'max_df': [100,500,1000,2000], \n",
    "    'min_df': [0,1,2,3,5,10,100]\n",
    "```\n",
    "\n",
    "Your answer should create a fitted `Estimator` called `classifier_model` which will be used in the testing,\n",
    "\n",
    "The Scikit estimators you need to import are in the next cell"
   ]
  },
  {
   "cell_type": "code",
   "execution_count": 9,
   "id": "79b60d83",
   "metadata": {
    "editable": true,
    "slideshow": {
     "slide_type": ""
    },
    "tags": []
   },
   "outputs": [],
   "source": [
    "from sklearn.feature_extraction.text import CountVectorizer\n",
    "from sklearn.pipeline import Pipeline\n",
    "from sklearn.linear_model import LogisticRegression\n",
    "\n",
    "import pandas as pd"
   ]
  },
  {
   "cell_type": "markdown",
   "id": "bc65ec8e",
   "metadata": {},
   "source": [
    "The datasets will be prepared in the next cell."
   ]
  },
  {
   "cell_type": "code",
   "execution_count": 10,
   "id": "6895aa41",
   "metadata": {},
   "outputs": [],
   "source": [
    "\n",
    "def preProcessingStep(bunch):\n",
    "\n",
    "    #data clean up (remove extraneous data)\n",
    "\n",
    "    #remove extraneous data that will cause overfitting\n",
    "    bunch = fetch_20newsgroups(remove=('headers', 'footers', 'quotes'))\n",
    "\n",
    "    info = {}\n",
    "    data = []\n",
    "    label = []\n",
    "\n",
    "    # YOUR CODE HERE\n",
    "\n",
    "    #create a data frame with the data and the label\n",
    "    info = {'data': data, 'labels': label}\n",
    "    df = pd.DataFrame(info)\n",
    "    \n",
    "    return df"
   ]
  },
  {
   "cell_type": "markdown",
   "id": "5b56f92b",
   "metadata": {},
   "source": [
    "## THOUGHT PROCESS: \n",
    "\n",
    "    Use this cell to explain the thought process behind your implementation.\n"
   ]
  },
  {
   "cell_type": "code",
   "execution_count": null,
   "id": "f03259f9",
   "metadata": {},
   "outputs": [],
   "source": [
    "# implement classifier_model\n",
    "from sklearn.base import BaseEstimator\n",
    "from sklearn.feature_extraction.text import CountVectorizer\n",
    "from sklearn.model_selection import GridSearchCV\n",
    "from sklearn.model_selection import train_test_split\n",
    " \n",
    "# YOUR CODE HERE\n",
    "# preprocessing, \n",
    "# pipeline with feature transformation \n",
    "# train test splits\n",
    "# model fitting, \n",
    "# accuracy metrics and reports\n",
    "# inference\n"
   ]
  },
  {
   "cell_type": "code",
   "execution_count": null,
   "id": "ea968191",
   "metadata": {
    "deletable": false,
    "editable": false,
    "nbgrader": {
     "cell_type": "code",
     "checksum": "81f98ec125240ebcf2a4c40e3919cf21",
     "grade": true,
     "grade_id": "cell-14b98ec39b2ebaf6",
     "locked": true,
     "points": 15,
     "schema_version": 3,
     "solution": false,
     "task": false
    },
    "slideshow": {
     "slide_type": ""
    },
    "tags": []
   },
   "outputs": [],
   "source": [
    "from sklearn.metrics import f1_score, accuracy_score\n",
    "from sklearn import base\n",
    "\n",
    "assert isinstance(classifier_model, base.BaseEstimator)\n",
    "# lets make sure it runs with no errors"
   ]
  }
 ],
 "metadata": {
  "kernelspec": {
   "display_name": "Python 3 (ipykernel)",
   "language": "python",
   "name": "python3"
  },
  "language_info": {
   "codemirror_mode": {
    "name": "ipython",
    "version": 3
   },
   "file_extension": ".py",
   "mimetype": "text/x-python",
   "name": "python",
   "nbconvert_exporter": "python",
   "pygments_lexer": "ipython3",
   "version": "3.10.10"
  }
 },
 "nbformat": 4,
 "nbformat_minor": 5
}
